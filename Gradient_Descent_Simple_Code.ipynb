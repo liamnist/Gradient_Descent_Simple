{
  "nbformat": 4,
  "nbformat_minor": 0,
  "metadata": {
    "colab": {
      "name": "HW1Flanigan.ipynb",
      "provenance": [],
      "collapsed_sections": [],
      "authorship_tag": "ABX9TyMnrgTGnwEvflQejZDaFi4L",
      "include_colab_link": true
    },
    "kernelspec": {
      "name": "python3",
      "display_name": "Python 3"
    },
    "language_info": {
      "name": "python"
    }
  },
  "cells": [
    {
      "cell_type": "markdown",
      "metadata": {
        "id": "view-in-github",
        "colab_type": "text"
      },
      "source": [
        "<a href=\"https://colab.research.google.com/github/liamnist/Gradient_Descent_Simple/blob/main/Gradient_Descent_Simple_Code.ipynb\" target=\"_parent\"><img src=\"https://colab.research.google.com/assets/colab-badge.svg\" alt=\"Open In Colab\"/></a>"
      ]
    },
    {
      "cell_type": "code",
      "metadata": {
        "colab": {
          "base_uri": "https://localhost:8080/",
          "height": 314
        },
        "id": "SqIU_4CAnQQo",
        "outputId": "6cae0712-8831-407b-a92e-07a10c484cf5"
      },
      "source": [
        "# importing libraries for numpy and plotting\n",
        "import numpy as np\n",
        "import matplotlib.pyplot as plt\n",
        "\n",
        "# assign values to vectors as numpy arrays for (x,y) data\n",
        "x = np.array([-3,5,-2,1,4,3,2])\n",
        "y = np.array([-7,11,-5,0,5,6,5])\n",
        "\n",
        "# plotting data in a scatter plot\n",
        "plt.figure()\n",
        "plt.scatter(x,y)\n",
        "plt.xlabel('x')\n",
        "plt.ylabel('y')\n",
        "plt.title(\"Simple Data\")"
      ],
      "execution_count": 8,
      "outputs": [
        {
          "output_type": "execute_result",
          "data": {
            "text/plain": [
              "Text(0.5, 1.0, 'Simple Data')"
            ]
          },
          "metadata": {},
          "execution_count": 8
        },
        {
          "output_type": "display_data",
          "data": {
            "image/png": "[encoded data removed]",
            "text/plain": [
              "<Figure size 432x288 with 1 Axes>"
            ]
          },
          "metadata": {
            "needs_background": "light"
          }
        }
      ]
    },
    {
      "cell_type": "code",
      "metadata": {
        "colab": {
          "base_uri": "https://localhost:8080/",
          "height": 318
        },
        "id": "8ctcUrUguQID",
        "outputId": "9948f1b0-88e3-4bcd-e78c-6dd0a4f5dc05"
      },
      "source": [
        "# Define an empty array to append estimated y values to\n",
        "f_wx = []\n",
        "# Define starting values for our estimators and error\n",
        "w = 1\n",
        "MSE = 0\n",
        "\n",
        "# Iterate through given x values and append y estimates to the empty array\n",
        "for i in x:\n",
        "  f_wx.append(w*i)\n",
        "\n",
        "# Create while loop to add increments to error for each estimate, and define a starting point for while loop\n",
        "k = 0\n",
        "while k < len(x):\n",
        "  MSE += (1/len(x))*(f_wx[k]-y[k])**2\n",
        "  k += 1\n",
        "\n",
        "# Print total error\n",
        "print(\"The MSE for the w = 1 and m = 7 linear approximation is \", round(MSE,2))\n",
        "\n",
        "# Plotting two sets of data on one plot, experimental and approximate\n",
        "plt.scatter(x, y, label = 'Experimental')\n",
        "plt.scatter(x, f_wx, color = 'red', label = 'Approximation')\n",
        "plt.legend()\n",
        "plt.title(\"Random Fitting Equation\")"
      ],
      "execution_count": 11,
      "outputs": [
        {
          "output_type": "stream",
          "name": "stdout",
          "text": [
            "The MSE for the w = 1 and m = 7 linear approximation is  11.57\n"
          ]
        },
        {
          "output_type": "execute_result",
          "data": {
            "text/plain": [
              "Text(0.5, 1.0, 'Random Fitting Equation')"
            ]
          },
          "metadata": {},
          "execution_count": 11
        },
        {
          "output_type": "display_data",
          "data": {
            "image/png": "[encoded data removed]",
            "text/plain": [
              "<Figure size 432x288 with 1 Axes>"
            ]
          },
          "metadata": {
            "needs_background": "light"
          }
        }
      ]
    },
    {
      "cell_type": "code",
      "metadata": {
        "colab": {
          "base_uri": "https://localhost:8080/",
          "height": 300
        },
        "id": "QMvtcB-e0hM0",
        "outputId": "d523d4a0-8dee-4d64-c116-af37a309a7d2"
      },
      "source": [
        "# Define a function that calculates J -- good for next question\n",
        "def J(v):\n",
        "  total = 0\n",
        "  j = 0\n",
        "  while j < len(x):\n",
        "    total += (1/7)*(v*x[j]-y[j])**2\n",
        "    j += 1\n",
        "  return total\n",
        "\n",
        "# Create x values through numpy and iterate through each, calculating and appending J(x_vals) for each x\n",
        "y_vals = []     \n",
        "x_vals = np.arange(-5,5.01, 0.01)\n",
        "for i in x_vals:\n",
        "  y_vals.append(J(i))\n",
        "\n",
        "# Plot error across different w\n",
        "plt.plot(x_vals, y_vals)\n",
        "plt.title(\"Error As a Function of Linear Coefficients\")"
      ],
      "execution_count": 5,
      "outputs": [
        {
          "output_type": "execute_result",
          "data": {
            "text/plain": [
              "Text(0.5, 1.0, 'Error As a Function of Linear Coefficients')"
            ]
          },
          "metadata": {},
          "execution_count": 5
        },
        {
          "output_type": "display_data",
          "data": {
            "image/png": "[encoded data removed]",
            "text/plain": [
              "<Figure size 432x288 with 1 Axes>"
            ]
          },
          "metadata": {
            "needs_background": "light"
          }
        }
      ]
    },
    {
      "cell_type": "code",
      "metadata": {
        "colab": {
          "base_uri": "https://localhost:8080/"
        },
        "id": "msFojTM260ra",
        "outputId": "dead5928-35ce-4a4b-e4bc-4f1d6f145da9"
      },
      "source": [
        "# 3\n",
        "# Define constants \n",
        "epsilon = 0.01\n",
        "w = 1\n",
        "\n",
        "# Define new function that returns the gradient of w\n",
        "def j_prime(v):\n",
        "  del_w = 0\n",
        "  u = 0\n",
        "  while u < len(x):\n",
        "    del_w += (-2/7)*(y[u]-w*x[u])*x[u]\n",
        "    u += 1\n",
        "  return del_w\n",
        "\n",
        "# Perform the gradient descent with a for loop iteration, print w and error on w\n",
        "for i in range(0,100):\n",
        "  print(w, J(w))\n",
        "  w += -1*epsilon*j_prime(w)"
      ],
      "execution_count": 13,
      "outputs": [
        {
          "output_type": "stream",
          "name": "stdout",
          "text": [
            "1 11.57142857142857\n",
            "1.1885714285714286 8.360942274052476\n",
            "1.3405061224489796 6.276773193950139\n",
            "1.4629220758017492 4.923781668023134\n",
            "1.5615543582174094 4.045452703877669\n",
            "1.6410237971923127 3.4752630504515154\n",
            "1.7050534594520919 3.1051098912755037\n",
            "1.7566430730442568 2.8648155253137633\n",
            "1.798209561709944 2.708822307691385\n",
            "1.8317002754348692 2.6075553310529997\n",
            "1.858684221921809 2.5418152898269524\n",
            "1.880425573091286 2.4991384650231954\n",
            "1.8979428903192648 2.4714337155073256\n",
            "1.9120568430572362 2.4534484706052853\n",
            "1.923428656406116 2.4417728900698576\n",
            "1.932591088875785 2.434193389118842\n",
            "1.9399733916084896 2.429272962721875\n",
            "1.9459214183816973 2.4260787424052026\n",
            "1.950713828524682 2.4240051328014216\n",
            "1.9545751418398867 2.4226589962289236\n",
            "1.957686257139566 2.421785117332667\n",
            "1.9601929271810217 2.421217816554333\n",
            "1.9622125870429945 2.4208495387821203\n",
            "1.96383985584607 2.420610461871446\n",
            "1.965150969567405 2.4204552589959816\n",
            "1.9662073526228805 2.4203545050901165\n",
            "1.9670584955418637 2.420289098121872\n",
            "1.967744273550873 2.4202466375198903\n",
            "1.9682968146895605 2.4202190731369364\n",
            "1.9687420049784459 2.4202011790145677\n",
            "1.9691007011540622 2.4201895625885492\n",
            "1.9693897077869873 2.4201820214892624\n",
            "1.9696225645598011 2.4201771259922853\n",
            "1.9698101805881827 2.4201739479555378\n",
            "1.9699613455024787 2.42017188485191\n",
            "1.9700831412334256 2.420170545535561\n",
            "1.9701812737937887 2.4201696760841864\n",
            "1.970260340599567 2.4201691116576467\n",
            "1.9703240458545082 2.420168745245759\n",
            "1.9703753740884895 2.4201685073801356\n",
            "1.9704167299798687 2.420168352963598\n",
            "1.9704500510123513 2.420168252720163\n",
            "1.9704768982442373 2.4201681876445806\n",
            "1.9704985294424997 2.4201681453991064\n",
            "1.970515958007957 2.420168117974378\n",
            "1.9705300004521253 2.420168100170917\n",
            "1.9705413146499982 2.4201680886133454\n",
            "1.9705504306608557 2.420168081110454\n",
            "1.9705577755610322 2.4201680762397597\n",
            "1.9705636934520316 2.420168073077824\n",
            "1.9705684615813512 2.4201680710251736\n",
            "1.97057230333126 2.420168069692643\n",
            "1.970575398684044 2.4201680688275973\n",
            "1.9705778926540012 2.4201680682660296\n",
            "1.9705799020812238 2.4201680679014745\n",
            "1.9705815211054432 2.420168067664814\n",
            "1.9705828255763855 2.420168067511179\n",
            "1.9705838766072592 2.4201680674114443\n",
            "1.9705847234378489 2.4201680673466988\n",
            "1.9705854057413525 2.4201680673046666\n",
            "1.9705859554830327 2.420168067277381\n",
            "1.9705863984177578 2.420168067259668\n",
            "1.9705867552965934 2.4201680672481682\n",
            "1.9705870428389696 2.420168067240705\n",
            "1.9705872745159698 2.4201680672358576\n",
            "1.9705874611814385 2.420168067232712\n",
            "1.9705876115804732 2.42016806723067\n",
            "1.9705877327591241 2.4201680672293437\n",
            "1.9705878303944944 2.4201680672284835\n",
            "1.9705879090607068 2.4201680672279244\n",
            "1.970587972443198 2.4201680672275616\n",
            "1.9705880235113766 2.4201680672273262\n",
            "1.9705880646577378 2.4201680672271744\n",
            "1.9705880978099488 2.420168067227075\n",
            "1.9705881245211587 2.42016806722701\n",
            "1.9705881460427621 2.4201680672269683\n",
            "1.9705881633830256 2.420168067226941\n",
            "1.9705881773543235 2.420168067226924\n",
            "1.9705881886111978 2.4201680672269124\n",
            "1.9705881976810222 2.4201680672269044\n",
            "1.9705882049887093 2.4201680672268995\n",
            "1.9705882108766173 2.4201680672268964\n",
            "1.9705882156205887 2.420168067226894\n",
            "1.9705882194428743 2.420168067226893\n",
            "1.9705882225225444 2.420168067226892\n",
            "1.9705882250038786 2.420168067226892\n",
            "1.9705882270031252 2.420168067226891\n",
            "1.9705882286139467 2.4201680672268915\n",
            "1.9705882299118085 2.4201680672268906\n",
            "1.9705882309575142 2.4201680672268906\n",
            "1.9705882318000543 2.42016806722689\n",
            "1.9705882324789008 2.420168067226891\n",
            "1.9705882330258573 2.420168067226891\n",
            "1.9705882334665479 2.42016806722689\n",
            "1.9705882338216185 2.42016806722689\n",
            "1.9705882341077041 2.4201680672268906\n",
            "1.9705882343382073 2.4201680672268906\n",
            "1.970588234523927 2.42016806722689\n",
            "1.970588234673564 2.4201680672268906\n",
            "1.9705882347941286 2.42016806722689\n"
          ]
        }
      ]
    },
    {
      "cell_type": "code",
      "metadata": {
        "colab": {
          "base_uri": "https://localhost:8080/",
          "height": 300
        },
        "id": "rvrbjaNDI7dY",
        "outputId": "237638d5-7828-47e6-ba0b-45eadc028a46"
      },
      "source": [
        "# Plot and title error minimized through GD\n",
        "plt.plot(x_vals, y_vals)\n",
        "plt.title(\"Error As a Function of Linear Coefficients, Minimized\")\n",
        "# Add in convergence point from question 3\n",
        "plt.plot(w, J(w), 'o', color = 'green')"
      ],
      "execution_count": 14,
      "outputs": [
        {
          "output_type": "execute_result",
          "data": {
            "text/plain": [
              "[<matplotlib.lines.Line2D at 0x7f35ed4eddd0>]"
            ]
          },
          "metadata": {},
          "execution_count": 14
        },
        {
          "output_type": "display_data",
          "data": {
            "image/png": "[encoded data removed]",
            "text/plain": [
              "<Figure size 432x288 with 1 Axes>"
            ]
          },
          "metadata": {
            "needs_background": "light"
          }
        }
      ]
    },
    {
      "cell_type": "code",
      "metadata": {
        "colab": {
          "base_uri": "https://localhost:8080/",
          "height": 300
        },
        "id": "mVl47COtKVfM",
        "outputId": "974df0d1-d9f8-4be6-b4fe-a5dee1ce6991"
      },
      "source": [
        "# Redefining f_wx with new w\n",
        "f_wx = []\n",
        "\n",
        "# Reuse same for loop as in question 1\n",
        "for i in x:\n",
        "  f_wx.append(w*i)\n",
        "\n",
        "# Plotting two sets of data on one plot, experimental and approximated using gradient descent\n",
        "plt.scatter(x, y, label = 'Experimental')\n",
        "plt.plot(x, f_wx, color = 'red', label = 'Approximation by Gradient Descent')\n",
        "# Title and legend\n",
        "plt.legend()\n",
        "plt.title(\"Simple Line of Best Fit\")"
      ],
      "execution_count": 16,
      "outputs": [
        {
          "output_type": "execute_result",
          "data": {
            "text/plain": [
              "Text(0.5, 1.0, 'Simple Line of Best Fit')"
            ]
          },
          "metadata": {},
          "execution_count": 16
        },
        {
          "output_type": "display_data",
          "data": {
            "image/png": "[encoded data removed]",
            "text/plain": [
              "<Figure size 432x288 with 1 Axes>"
            ]
          },
          "metadata": {
            "needs_background": "light"
          }
        }
      ]
    }
  ]
}